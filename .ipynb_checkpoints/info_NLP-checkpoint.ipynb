{
 "cells": [
  {
   "cell_type": "code",
   "execution_count": null,
   "id": "e6eba688-93d2-4448-b3a2-a6efa82ee4e6",
   "metadata": {},
   "outputs": [],
   "source": [
    "import os\n",
    "import pandas as pd\n",
    "import numpy as np\n",
    "from sklearn.model_selection import train_test_split\n",
    "\n",
    "RANDOM_SEED = 42\n",
    "np.random.seed(RANDOM_SEED)\n",
    "\n",
    "CSV_PATH = \"updated_data.csv\"   # new dataset\n",
    "TRAIN_PATH = \"train.csv\"\n",
    "TEST_PATH = \"test.csv\"\n"
   ]
  },
  {
   "cell_type": "code",
   "execution_count": null,
   "id": "c0293e49-94d9-45b0-9ea6-b18bcf92ae1a",
   "metadata": {},
   "outputs": [],
   "source": [
    "# preprocessing"
   ]
  },
  {
   "cell_type": "code",
   "execution_count": null,
   "id": "356a92c3-0131-4429-a940-d9c5275b6389",
   "metadata": {},
   "outputs": [],
   "source": [
    "def preprocess(df):\n",
    "    df = df.copy()\n",
    "    if \"Unnamed: 9\" in df.columns:\n",
    "        df = df.drop(columns=[\"Unnamed: 9\"])\n",
    "    \n",
    "    df[\"text_for_nlp\"] = (\n",
    "        df[\"scheme_name\"].astype(str) + \". \" +\n",
    "        df[\"details\"].astype(str) + \". \" +\n",
    "        df[\"benefits\"].astype(str) + \". \" +\n",
    "        df[\"eligibility\"].astype(str) + \". \" +\n",
    "        df[\"application\"].astype(str) + \". \" +\n",
    "        df[\"documents\"].astype(str) + \". \" +\n",
    "        \"Tags: \" + df[\"tags\"].astype(str)\n",
    "    ).str.lower()\n",
    "    \n",
    "    return df\n"
   ]
  },
  {
   "cell_type": "code",
   "execution_count": null,
   "id": "ff797c1b-a7cf-410b-88d9-b482dafa86ea",
   "metadata": {},
   "outputs": [],
   "source": [
    "#Load, preprocess, split, and save"
   ]
  },
  {
   "cell_type": "code",
   "execution_count": null,
   "id": "33ba7664-852e-44c1-a78b-c8106d0a996e",
   "metadata": {},
   "outputs": [],
   "source": [
    "if not os.path.exists(CSV_PATH):\n",
    "    raise FileNotFoundError(f\"{CSV_PATH} not found in project folder. Please place updated_data.csv there.\")\n",
    "else:\n",
    "    df = pd.read_csv(CSV_PATH)\n",
    "\n",
    "df = preprocess(df)\n",
    "\n",
    "train_df, test_df = train_test_split(df, test_size=0.2, random_state=RANDOM_SEED, shuffle=True)\n",
    "\n",
    "train_df.to_csv(TRAIN_PATH, index=False)\n",
    "test_df.to_csv(TEST_PATH, index=False)\n",
    "\n",
    "print(f\"✅ Data prepared: {len(train_df)} train, {len(test_df)} test.\")\n"
   ]
  }
 ],
 "metadata": {
  "kernelspec": {
   "display_name": "Python [conda env:base] *",
   "language": "python",
   "name": "conda-base-py"
  },
  "language_info": {
   "codemirror_mode": {
    "name": "ipython",
    "version": 3
   },
   "file_extension": ".py",
   "mimetype": "text/x-python",
   "name": "python",
   "nbconvert_exporter": "python",
   "pygments_lexer": "ipython3",
   "version": "3.12.7"
  }
 },
 "nbformat": 4,
 "nbformat_minor": 5
}
